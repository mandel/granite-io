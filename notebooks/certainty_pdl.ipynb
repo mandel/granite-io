{
 "cells": [
  {
   "cell_type": "markdown",
   "metadata": {},
   "source": [
    "# Demonstration of the Granite certainty intrisic\n",
    "\n",
    "This notebook shows the usage of the IO processor for the Granite certainty intrisic, \n",
    "also known as the [Granite 3.2 8B Instruct Uncertainty LoRA](\n",
    "    https://huggingface.co/ibm-granite/granite-uncertainty-3.2-8b-lora\n",
    ")\n",
    "\n",
    "This notebook can run its own vLLM server to perform inference, or you can host the \n",
    "models on your own server. To use your own server, set the `run_server` variable below\n",
    "to `False` and set appropriate values for the constants \n",
    "`openai_base_url`, `openai_base_model_name` and `openai_lora_model_name`."
   ]
  },
  {
   "cell_type": "code",
   "execution_count": null,
   "metadata": {},
   "outputs": [],
   "source": [
    "# Imports go here\n",
    "from granite_io.io.granite_3_2.input_processors.granite_3_2_input_processor import (\n",
    "    Granite3Point2Inputs,\n",
    ")\n",
    "from granite_io import make_io_processor, make_backend\n",
    "from granite_io.backend.vllm_server import LocalVLLMServer\n",
    "from granite_io.io.certainty import CertaintyIOProcessor, CertaintyCompositeIOProcessor"
   ]
  },
  {
   "cell_type": "code",
   "execution_count": null,
   "metadata": {},
   "outputs": [],
   "source": [
    "%load_ext pdl.pdl_notebook_ext"
   ]
  },
  {
   "cell_type": "code",
   "execution_count": null,
   "metadata": {},
   "outputs": [],
   "source": [
    "# Constants go here\n",
    "base_model_name = \"ibm-granite/granite-3.2-8b-instruct\"\n",
    "lora_model_name = \"ibm-granite/granite-uncertainty-3.2-8b-lora\"\n",
    "\n",
    "run_server = False"
   ]
  },
  {
   "cell_type": "code",
   "execution_count": null,
   "metadata": {},
   "outputs": [],
   "source": [
    "if run_server:\n",
    "    # Start by firing up a local vLLM server and connecting a backend instance to it.\n",
    "    server = LocalVLLMServer(\n",
    "        base_model_name, lora_adapters=[(lora_model_name, lora_model_name)]\n",
    "    )\n",
    "    server.wait_for_startup(200)\n",
    "    lora_backend = server.make_lora_backend(lora_model_name)\n",
    "    backend = server.make_backend()\n",
    "else:  # if not run_server\n",
    "    # Use an existing server.\n",
    "    # Modify the constants here as needed.\n",
    "    openai_base_url = \"https://inference-3scale-apicast-production.apps.rits.fmaas.res.ibm.com\"\n",
    "    openai_api_key = \"XXXXXXXX\"\n",
    "    openai_base_model_name = base_model_name\n",
    "    openai_lora_model_name = lora_model_name\n",
    "    backend = make_backend(\n",
    "        \"openai\",\n",
    "        {\n",
    "            \"model_name\": \"ibm-granite/granite-3.2-8b-instruct\",\n",
    "            \"openai_base_url\": \"https://inference-3scale-apicast-production.apps.rits.fmaas.res.ibm.com/granite-3-2-8b-instruct/v1/\",\n",
    "            \"openai_api_key\": openai_api_key,\n",
    "        },\n",
    "    )\n",
    "    lora_backend = make_backend(\n",
    "        \"openai\",\n",
    "        {\n",
    "            \"model_name\": \"ibm-granite/granite-3.2-8b-lora-uncertainty\",\n",
    "            \"openai_base_url\": \"https://inference-3scale-apicast-production.apps.rits.fmaas.res.ibm.com/granite-3-2-8b-lora-uncertainty/v1/\",\n",
    "            \"openai_api_key\": openai_api_key,\n",
    "        },\n",
    "    )"
   ]
  },
  {
   "cell_type": "code",
   "execution_count": null,
   "metadata": {},
   "outputs": [],
   "source": [
    "%%pdl --reset-context\n",
    "# Create an example chat completion with a user question and two documents.\n",
    "lastOf:\n",
    "- role: assistant\n",
    "  text: Welcome to pet questions!\n",
    "- Which of my pets have fleas?"
   ]
  },
  {
   "cell_type": "code",
   "execution_count": null,
   "metadata": {},
   "outputs": [],
   "source": [
    "%%pdl\n",
    "# Pass the example input through Granite 3.2 to get an answer\n",
    "processor:\n",
    "  model: Granite 3.2\n",
    "  backend: ${backend}\n",
    "parameters:\n",
    "    documents:\n",
    "    - text: My dog has fleas.\n",
    "    - text: My cat does not have fleas.\n",
    "    generate_inputs:\n",
    "        temperature: 0.0\n",
    "        max_tokens: 4096\n",
    "        extra_headers: \n",
    "            RITS_API_KEY: ${openai_api_key}"
   ]
  },
  {
   "cell_type": "code",
   "execution_count": null,
   "metadata": {},
   "outputs": [],
   "source": [
    "# Append the model's output to the chat\n",
    "\n",
    "\n",
    "# done implicitly"
   ]
  },
  {
   "cell_type": "code",
   "execution_count": null,
   "metadata": {},
   "outputs": [],
   "source": [
    "# Instantiate the I/O processor for the certainty intrinsic\n",
    "io_proc = CertaintyIOProcessor(lora_backend)"
   ]
  },
  {
   "cell_type": "code",
   "execution_count": null,
   "metadata": {},
   "outputs": [],
   "source": [
    "%%pdl\n",
    "# Set temperature to 0 because we are not sampling from the intrinsic's output\n",
    "# Pass our example input through the I/O processor and retrieve the result\n",
    "processor: ${ io_proc }\n",
    "parameters:\n",
    "    documents:\n",
    "    - text: My dog has fleas.\n",
    "    - text: My cat does not have fleas.\n",
    "    generate_inputs:\n",
    "        temperature: 0.0\n",
    "        extra_headers: \n",
    "            RITS_API_KEY: ${openai_api_key}\n",
    "modelResponse: chat_result"
   ]
  },
  {
   "cell_type": "code",
   "execution_count": null,
   "metadata": {},
   "outputs": [],
   "source": [
    "%%pdl\n",
    "\n",
    "text: >\n",
    "  Certainty score for the original response is\n",
    "  ${chat_result.results[0].next_message.content}\n",
    "contribute: [result]"
   ]
  },
  {
   "cell_type": "code",
   "execution_count": null,
   "metadata": {},
   "outputs": [],
   "source": [
    "%%pdl\n",
    "# Try with an artifical poor-quality assistant response.\n",
    "lastOf:\n",
    "- role: \"assistant\"\n",
    "  text: Your iguana is absolutely covered in fleas.\n",
    "- processor: ${ io_proc }\n",
    "  parameters:\n",
    "    documents:\n",
    "    - text: My dog has fleas.\n",
    "    - text: My cat does not have fleas.\n",
    "    generate_inputs:\n",
    "        temperature: 0.0\n",
    "        extra_headers: \n",
    "            RITS_API_KEY: ${openai_api_key}\n",
    "  modelResponse: chat_result_2\n",
    "- >\n",
    "  Certainty score for the low-quality response is\n",
    "  ${chat_result_2.results[0].next_message.content}\n"
   ]
  },
  {
   "cell_type": "code",
   "execution_count": null,
   "metadata": {},
   "outputs": [],
   "source": [
    "# Use majority voting to get a second opinion\n",
    "from granite_io.io.voting import MBRDMajorityVotingProcessor\n",
    "\n",
    "voting_proc = MBRDMajorityVotingProcessor(io_proc)\n",
    "next_chat_input.generate_inputs.temperature = 0.1\n",
    "chat_result_3 = await voting_proc.acreate_chat_completion(\n",
    "    next_chat_input.with_addl_generate_params({\"n\": 10})\n",
    ")\n",
    "print(\n",
    "    f\"Certainty score with majority voting is \"\n",
    "    f\"{chat_result_3.results[0].next_message.content}\"\n",
    ")"
   ]
  },
  {
   "cell_type": "code",
   "execution_count": null,
   "metadata": {},
   "outputs": [],
   "source": [
    "# Use the composite processor to generate multiple completions and filter those that\n",
    "# are below a certainty threshold\n",
    "composite_proc = CertaintyCompositeIOProcessor(\n",
    "    granite_io_proc, lora_backend, threshold=0.8, include_score=True\n",
    ")\n",
    "composite_results = await composite_proc.acreate_chat_completion(\n",
    "    chat_input.with_addl_generate_params({\"n\": 5, \"temperature\": 1.0})\n",
    ")\n",
    "composite_results.results"
   ]
  },
  {
   "cell_type": "code",
   "execution_count": null,
   "metadata": {},
   "outputs": [],
   "source": [
    "# Change the certainty threshold and try again\n",
    "composite_proc.update_threshold(0.9)\n",
    "composite_results_2 = await composite_proc.acreate_chat_completion(\n",
    "    chat_input.with_addl_generate_params({\"n\": 5, \"temperature\": 1.0})\n",
    ")\n",
    "composite_results_2.results"
   ]
  },
  {
   "cell_type": "code",
   "execution_count": null,
   "metadata": {},
   "outputs": [],
   "source": [
    "# Free up GPU resources\n",
    "if \"server\" in locals():\n",
    "    server.shutdown()"
   ]
  },
  {
   "cell_type": "code",
   "execution_count": null,
   "metadata": {},
   "outputs": [],
   "source": []
  }
 ],
 "metadata": {
  "kernelspec": {
   "display_name": "granite-io-3.11",
   "language": "python",
   "name": "python3"
  },
  "language_info": {
   "codemirror_mode": {
    "name": "ipython",
    "version": 3
   },
   "file_extension": ".py",
   "mimetype": "text/x-python",
   "name": "python",
   "nbconvert_exporter": "python",
   "pygments_lexer": "ipython3",
   "version": "3.11.4"
  }
 },
 "nbformat": 4,
 "nbformat_minor": 2
}
